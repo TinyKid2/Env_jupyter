{
 "cells": [
  {
   "cell_type": "code",
   "execution_count": 1,
   "id": "c4252bb9",
   "metadata": {},
   "outputs": [],
   "source": [
    "from selenium import webdriver\n",
    "from selenium.webdriver.chrome.service import Service\n",
    "from selenium.webdriver.common.by import By\n",
    "from webdriver_manager.chrome import ChromeDriverManager"
   ]
  },
  {
   "cell_type": "code",
   "execution_count": null,
   "id": "59a88947",
   "metadata": {},
   "outputs": [],
   "source": [
    "#  https://indistreet.com/live?sortOption=startDate%3AASC"
   ]
  },
  {
   "cell_type": "code",
   "execution_count": 8,
   "id": "a047ea8b",
   "metadata": {
    "collapsed": true
   },
   "outputs": [
    {
     "ename": "NoSuchElementException",
     "evalue": "Message: no such element: Unable to locate element: {\"method\":\"xpath\",\"selector\":\"//*[@id=\"__next\"]/div/main/div[2]/div/div[4]/div[1]/div[1]/div/a/div[2]/p[1]\"}\n  (Session info: chrome=111.0.5563.64)\nStacktrace:\n0   chromedriver                        0x0000000104826d3c chromedriver + 4222268\n1   chromedriver                        0x00000001047ad8e8 chromedriver + 3725544\n2   chromedriver                        0x0000000104463da4 chromedriver + 277924\n3   chromedriver                        0x000000010449f1b8 chromedriver + 520632\n4   chromedriver                        0x00000001044d7618 chromedriver + 751128\n5   chromedriver                        0x00000001044918f0 chromedriver + 465136\n6   chromedriver                        0x0000000104492974 chromedriver + 469364\n7   chromedriver                        0x00000001047f7788 chromedriver + 4028296\n8   chromedriver                        0x00000001047fbc1c chromedriver + 4045852\n9   chromedriver                        0x0000000104801c98 chromedriver + 4070552\n10  chromedriver                        0x00000001047fc8d8 chromedriver + 4049112\n11  chromedriver                        0x00000001047d3d84 chromedriver + 3882372\n12  chromedriver                        0x000000010481a720 chromedriver + 4171552\n13  chromedriver                        0x000000010481a878 chromedriver + 4171896\n14  chromedriver                        0x000000010482e014 chromedriver + 4251668\n15  libsystem_pthread.dylib             0x00000001a868506c _pthread_start + 148\n16  libsystem_pthread.dylib             0x00000001a867fe2c thread_start + 8\n",
     "output_type": "error",
     "traceback": [
      "\u001b[0;31m---------------------------------------------------------------------------\u001b[0m",
      "\u001b[0;31mNoSuchElementException\u001b[0m                    Traceback (most recent call last)",
      "Cell \u001b[0;32mIn[8], line 8\u001b[0m\n\u001b[1;32m      4\u001b[0m driver \u001b[38;5;241m=\u001b[39m webdriver\u001b[38;5;241m.\u001b[39mChrome(service \u001b[38;5;241m=\u001b[39m Service(ChromeDriverManager()\u001b[38;5;241m.\u001b[39minstall()))\n\u001b[1;32m      6\u001b[0m driver\u001b[38;5;241m.\u001b[39mget(\u001b[38;5;124m\"\u001b[39m\u001b[38;5;124mhttps://indistreet.com/live?sortOption=startDate\u001b[39m\u001b[38;5;124m%\u001b[39m\u001b[38;5;124m3AASC\u001b[39m\u001b[38;5;124m\"\u001b[39m)\n\u001b[0;32m----> 8\u001b[0m \u001b[43mdriver\u001b[49m\u001b[38;5;241;43m.\u001b[39;49m\u001b[43mfind_element\u001b[49m\u001b[43m(\u001b[49m\u001b[43mBy\u001b[49m\u001b[38;5;241;43m.\u001b[39;49m\u001b[43mXPATH\u001b[49m\u001b[43m,\u001b[49m\u001b[43m \u001b[49m\u001b[38;5;124;43m'\u001b[39;49m\u001b[38;5;124;43m//*[@id=\u001b[39;49m\u001b[38;5;124;43m\"\u001b[39;49m\u001b[38;5;124;43m__next\u001b[39;49m\u001b[38;5;124;43m\"\u001b[39;49m\u001b[38;5;124;43m]/div/main/div[2]/div/div[4]/div[1]/div[1]/div/a/div[2]/p[1]\u001b[39;49m\u001b[38;5;124;43m'\u001b[39;49m\u001b[43m)\u001b[49m\u001b[38;5;241m.\u001b[39mtext\n",
      "File \u001b[0;32m/Library/Frameworks/Python.framework/Versions/3.10/lib/python3.10/site-packages/selenium/webdriver/remote/webdriver.py:830\u001b[0m, in \u001b[0;36mWebDriver.find_element\u001b[0;34m(self, by, value)\u001b[0m\n\u001b[1;32m    827\u001b[0m     by \u001b[38;5;241m=\u001b[39m By\u001b[38;5;241m.\u001b[39mCSS_SELECTOR\n\u001b[1;32m    828\u001b[0m     value \u001b[38;5;241m=\u001b[39m \u001b[38;5;124mf\u001b[39m\u001b[38;5;124m'\u001b[39m\u001b[38;5;124m[name=\u001b[39m\u001b[38;5;124m\"\u001b[39m\u001b[38;5;132;01m{\u001b[39;00mvalue\u001b[38;5;132;01m}\u001b[39;00m\u001b[38;5;124m\"\u001b[39m\u001b[38;5;124m]\u001b[39m\u001b[38;5;124m'\u001b[39m\n\u001b[0;32m--> 830\u001b[0m \u001b[38;5;28;01mreturn\u001b[39;00m \u001b[38;5;28;43mself\u001b[39;49m\u001b[38;5;241;43m.\u001b[39;49m\u001b[43mexecute\u001b[49m\u001b[43m(\u001b[49m\u001b[43mCommand\u001b[49m\u001b[38;5;241;43m.\u001b[39;49m\u001b[43mFIND_ELEMENT\u001b[49m\u001b[43m,\u001b[49m\u001b[43m \u001b[49m\u001b[43m{\u001b[49m\u001b[38;5;124;43m\"\u001b[39;49m\u001b[38;5;124;43musing\u001b[39;49m\u001b[38;5;124;43m\"\u001b[39;49m\u001b[43m:\u001b[49m\u001b[43m \u001b[49m\u001b[43mby\u001b[49m\u001b[43m,\u001b[49m\u001b[43m \u001b[49m\u001b[38;5;124;43m\"\u001b[39;49m\u001b[38;5;124;43mvalue\u001b[39;49m\u001b[38;5;124;43m\"\u001b[39;49m\u001b[43m:\u001b[49m\u001b[43m \u001b[49m\u001b[43mvalue\u001b[49m\u001b[43m}\u001b[49m\u001b[43m)\u001b[49m[\u001b[38;5;124m\"\u001b[39m\u001b[38;5;124mvalue\u001b[39m\u001b[38;5;124m\"\u001b[39m]\n",
      "File \u001b[0;32m/Library/Frameworks/Python.framework/Versions/3.10/lib/python3.10/site-packages/selenium/webdriver/remote/webdriver.py:440\u001b[0m, in \u001b[0;36mWebDriver.execute\u001b[0;34m(self, driver_command, params)\u001b[0m\n\u001b[1;32m    438\u001b[0m response \u001b[38;5;241m=\u001b[39m \u001b[38;5;28mself\u001b[39m\u001b[38;5;241m.\u001b[39mcommand_executor\u001b[38;5;241m.\u001b[39mexecute(driver_command, params)\n\u001b[1;32m    439\u001b[0m \u001b[38;5;28;01mif\u001b[39;00m response:\n\u001b[0;32m--> 440\u001b[0m     \u001b[38;5;28;43mself\u001b[39;49m\u001b[38;5;241;43m.\u001b[39;49m\u001b[43merror_handler\u001b[49m\u001b[38;5;241;43m.\u001b[39;49m\u001b[43mcheck_response\u001b[49m\u001b[43m(\u001b[49m\u001b[43mresponse\u001b[49m\u001b[43m)\u001b[49m\n\u001b[1;32m    441\u001b[0m     response[\u001b[38;5;124m\"\u001b[39m\u001b[38;5;124mvalue\u001b[39m\u001b[38;5;124m\"\u001b[39m] \u001b[38;5;241m=\u001b[39m \u001b[38;5;28mself\u001b[39m\u001b[38;5;241m.\u001b[39m_unwrap_value(response\u001b[38;5;241m.\u001b[39mget(\u001b[38;5;124m\"\u001b[39m\u001b[38;5;124mvalue\u001b[39m\u001b[38;5;124m\"\u001b[39m, \u001b[38;5;28;01mNone\u001b[39;00m))\n\u001b[1;32m    442\u001b[0m     \u001b[38;5;28;01mreturn\u001b[39;00m response\n",
      "File \u001b[0;32m/Library/Frameworks/Python.framework/Versions/3.10/lib/python3.10/site-packages/selenium/webdriver/remote/errorhandler.py:245\u001b[0m, in \u001b[0;36mErrorHandler.check_response\u001b[0;34m(self, response)\u001b[0m\n\u001b[1;32m    243\u001b[0m         alert_text \u001b[38;5;241m=\u001b[39m value[\u001b[38;5;124m\"\u001b[39m\u001b[38;5;124malert\u001b[39m\u001b[38;5;124m\"\u001b[39m]\u001b[38;5;241m.\u001b[39mget(\u001b[38;5;124m\"\u001b[39m\u001b[38;5;124mtext\u001b[39m\u001b[38;5;124m\"\u001b[39m)\n\u001b[1;32m    244\u001b[0m     \u001b[38;5;28;01mraise\u001b[39;00m exception_class(message, screen, stacktrace, alert_text)  \u001b[38;5;66;03m# type: ignore[call-arg]  # mypy is not smart enough here\u001b[39;00m\n\u001b[0;32m--> 245\u001b[0m \u001b[38;5;28;01mraise\u001b[39;00m exception_class(message, screen, stacktrace)\n",
      "\u001b[0;31mNoSuchElementException\u001b[0m: Message: no such element: Unable to locate element: {\"method\":\"xpath\",\"selector\":\"//*[@id=\"__next\"]/div/main/div[2]/div/div[4]/div[1]/div[1]/div/a/div[2]/p[1]\"}\n  (Session info: chrome=111.0.5563.64)\nStacktrace:\n0   chromedriver                        0x0000000104826d3c chromedriver + 4222268\n1   chromedriver                        0x00000001047ad8e8 chromedriver + 3725544\n2   chromedriver                        0x0000000104463da4 chromedriver + 277924\n3   chromedriver                        0x000000010449f1b8 chromedriver + 520632\n4   chromedriver                        0x00000001044d7618 chromedriver + 751128\n5   chromedriver                        0x00000001044918f0 chromedriver + 465136\n6   chromedriver                        0x0000000104492974 chromedriver + 469364\n7   chromedriver                        0x00000001047f7788 chromedriver + 4028296\n8   chromedriver                        0x00000001047fbc1c chromedriver + 4045852\n9   chromedriver                        0x0000000104801c98 chromedriver + 4070552\n10  chromedriver                        0x00000001047fc8d8 chromedriver + 4049112\n11  chromedriver                        0x00000001047d3d84 chromedriver + 3882372\n12  chromedriver                        0x000000010481a720 chromedriver + 4171552\n13  chromedriver                        0x000000010481a878 chromedriver + 4171896\n14  chromedriver                        0x000000010482e014 chromedriver + 4251668\n15  libsystem_pthread.dylib             0x00000001a868506c _pthread_start + 148\n16  libsystem_pthread.dylib             0x00000001a867fe2c thread_start + 8\n"
     ]
    }
   ],
   "source": [
    "# //*[@id=\"__next\"]/div/main/div[2]/div/div[4]/div[1]/div[1]/div/a/div[2]/p[1]\n",
    "\n",
    "\n",
    "driver = webdriver.Chrome(service = Service(ChromeDriverManager().install()))\n",
    "\n",
    "driver.get(\"https://indistreet.com/live?sortOption=startDate%3AASC\")\n",
    "# element가 업로드 되기 전에 가져오기에.\n",
    "driver.find_element(By.XPATH, '//*[@id=\"__next\"]/div/main/div[2]/div/div[4]/div[1]/div[1]/div/a/div[2]/p[1]').text\n",
    "\n",
    "\n"
   ]
  },
  {
   "cell_type": "code",
   "execution_count": 10,
   "id": "496f21de",
   "metadata": {},
   "outputs": [
    {
     "name": "stdout",
     "output_type": "stream",
     "text": [
      "Knock Live Rock band\n"
     ]
    }
   ],
   "source": [
    "from selenium.webdriver.support.ui import WebDriverWait\n",
    "\n",
    "with webdriver.Chrome(service = Service(ChromeDriverManager().install())) as driver:\n",
    "    driver.get(\"https://indistreet.com/live?sortOption=startDate%3AASC\")\n",
    "    \n",
    "    driver.implicitly_wait(10) # 10초 기다리기.\n",
    "    print(driver.find_element(By.XPATH, '//*[@id=\"__next\"]/div/main/div[2]/div/div[4]/div[1]/div[1]/div/a/div[2]/p[1]').text)\n",
    "    "
   ]
  },
  {
   "cell_type": "code",
   "execution_count": 14,
   "id": "03aedf16",
   "metadata": {
    "collapsed": true
   },
   "outputs": [
    {
     "ename": "TimeoutException",
     "evalue": "Message: \nStacktrace:\n0   chromedriver                        0x0000000100fbad3c chromedriver + 4222268\n1   chromedriver                        0x0000000100f418e8 chromedriver + 3725544\n2   chromedriver                        0x0000000100bf7da4 chromedriver + 277924\n3   chromedriver                        0x0000000100c331b8 chromedriver + 520632\n4   chromedriver                        0x0000000100c6b618 chromedriver + 751128\n5   chromedriver                        0x0000000100c258f0 chromedriver + 465136\n6   chromedriver                        0x0000000100c26974 chromedriver + 469364\n7   chromedriver                        0x0000000100f8b788 chromedriver + 4028296\n8   chromedriver                        0x0000000100f8fc1c chromedriver + 4045852\n9   chromedriver                        0x0000000100f95c98 chromedriver + 4070552\n10  chromedriver                        0x0000000100f908d8 chromedriver + 4049112\n11  chromedriver                        0x0000000100f67d84 chromedriver + 3882372\n12  chromedriver                        0x0000000100fae720 chromedriver + 4171552\n13  chromedriver                        0x0000000100fae878 chromedriver + 4171896\n14  chromedriver                        0x0000000100fc2014 chromedriver + 4251668\n15  libsystem_pthread.dylib             0x00000001a868506c _pthread_start + 148\n16  libsystem_pthread.dylib             0x00000001a867fe2c thread_start + 8\n",
     "output_type": "error",
     "traceback": [
      "\u001b[0;31m---------------------------------------------------------------------------\u001b[0m",
      "\u001b[0;31mTimeoutException\u001b[0m                          Traceback (most recent call last)",
      "Cell \u001b[0;32mIn[14], line 6\u001b[0m\n\u001b[1;32m      3\u001b[0m \u001b[38;5;28;01mwith\u001b[39;00m webdriver\u001b[38;5;241m.\u001b[39mChrome(service \u001b[38;5;241m=\u001b[39m Service(ChromeDriverManager()\u001b[38;5;241m.\u001b[39minstall())) \u001b[38;5;28;01mas\u001b[39;00m driver:\n\u001b[1;32m      4\u001b[0m     driver\u001b[38;5;241m.\u001b[39mget(\u001b[38;5;124m\"\u001b[39m\u001b[38;5;124mhttps://indistreet.com/live?sortOption=startDate\u001b[39m\u001b[38;5;124m%\u001b[39m\u001b[38;5;124m3AASC\u001b[39m\u001b[38;5;124m\"\u001b[39m)\n\u001b[0;32m----> 6\u001b[0m     element \u001b[38;5;241m=\u001b[39m \u001b[43mWebDriverWait\u001b[49m\u001b[43m(\u001b[49m\u001b[43mdriver\u001b[49m\u001b[43m,\u001b[49m\u001b[43m \u001b[49m\u001b[38;5;241;43m10\u001b[39;49m\u001b[43m)\u001b[49m\u001b[38;5;241;43m.\u001b[39;49m\u001b[43muntil\u001b[49m\u001b[43m(\u001b[49m\u001b[43mEC\u001b[49m\u001b[38;5;241;43m.\u001b[39;49m\u001b[43mpresence_of_element_located\u001b[49m\u001b[43m(\u001b[49m\u001b[43m(\u001b[49m\u001b[43mBy\u001b[49m\u001b[38;5;241;43m.\u001b[39;49m\u001b[43mID\u001b[49m\u001b[43m,\u001b[49m\u001b[43m \u001b[49m\u001b[38;5;124;43m\"\u001b[39;49m\u001b[38;5;124;43mtarget\u001b[39;49m\u001b[38;5;124;43m\"\u001b[39;49m\u001b[43m)\u001b[49m\u001b[43m)\u001b[49m\u001b[43m)\u001b[49m\n\u001b[1;32m      7\u001b[0m     \u001b[38;5;28mprint\u001b[39m(driver\u001b[38;5;241m.\u001b[39mfind_element(By\u001b[38;5;241m.\u001b[39mXPATH, \u001b[38;5;124m'\u001b[39m\u001b[38;5;124m//*[@id=\u001b[39m\u001b[38;5;124m\"\u001b[39m\u001b[38;5;124m__next\u001b[39m\u001b[38;5;124m\"\u001b[39m\u001b[38;5;124m]/div/main/div[2]/div/div[4]/div[1]/div[1]/div/a/div[2]/p[1]\u001b[39m\u001b[38;5;124m'\u001b[39m)\u001b[38;5;241m.\u001b[39mtext)\n\u001b[1;32m      8\u001b[0m \u001b[38;5;66;03m#     print(element.text)\u001b[39;00m\n\u001b[1;32m      9\u001b[0m \u001b[38;5;66;03m# WebDriverWait(driver, 10).until(EC.presence_of_element_located((By.ID, \"target\")))\u001b[39;00m\n\u001b[1;32m     10\u001b[0m \u001b[38;5;66;03m# 요소를 잘 가져오면 ok\u001b[39;00m\n",
      "File \u001b[0;32m/Library/Frameworks/Python.framework/Versions/3.10/lib/python3.10/site-packages/selenium/webdriver/support/wait.py:95\u001b[0m, in \u001b[0;36mWebDriverWait.until\u001b[0;34m(self, method, message)\u001b[0m\n\u001b[1;32m     93\u001b[0m     \u001b[38;5;28;01mif\u001b[39;00m time\u001b[38;5;241m.\u001b[39mmonotonic() \u001b[38;5;241m>\u001b[39m end_time:\n\u001b[1;32m     94\u001b[0m         \u001b[38;5;28;01mbreak\u001b[39;00m\n\u001b[0;32m---> 95\u001b[0m \u001b[38;5;28;01mraise\u001b[39;00m TimeoutException(message, screen, stacktrace)\n",
      "\u001b[0;31mTimeoutException\u001b[0m: Message: \nStacktrace:\n0   chromedriver                        0x0000000100fbad3c chromedriver + 4222268\n1   chromedriver                        0x0000000100f418e8 chromedriver + 3725544\n2   chromedriver                        0x0000000100bf7da4 chromedriver + 277924\n3   chromedriver                        0x0000000100c331b8 chromedriver + 520632\n4   chromedriver                        0x0000000100c6b618 chromedriver + 751128\n5   chromedriver                        0x0000000100c258f0 chromedriver + 465136\n6   chromedriver                        0x0000000100c26974 chromedriver + 469364\n7   chromedriver                        0x0000000100f8b788 chromedriver + 4028296\n8   chromedriver                        0x0000000100f8fc1c chromedriver + 4045852\n9   chromedriver                        0x0000000100f95c98 chromedriver + 4070552\n10  chromedriver                        0x0000000100f908d8 chromedriver + 4049112\n11  chromedriver                        0x0000000100f67d84 chromedriver + 3882372\n12  chromedriver                        0x0000000100fae720 chromedriver + 4171552\n13  chromedriver                        0x0000000100fae878 chromedriver + 4171896\n14  chromedriver                        0x0000000100fc2014 chromedriver + 4251668\n15  libsystem_pthread.dylib             0x00000001a868506c _pthread_start + 148\n16  libsystem_pthread.dylib             0x00000001a867fe2c thread_start + 8\n"
     ]
    }
   ],
   "source": [
    "from selenium.webdriver.support import expected_conditions as EC\n",
    "## 잘 안됨..\n",
    "with webdriver.Chrome(service = Service(ChromeDriverManager().install())) as driver:\n",
    "    driver.get(\"https://indistreet.com/live?sortOption=startDate%3AASC\")\n",
    "    \n",
    "    element = WebDriverWait(driver, 10).until(EC.presence_of_element_located((By.ID, \"target\")))\n",
    "    print(driver.find_element(By.XPATH, '//*[@id=\"__next\"]/div/main/div[2]/div/div[4]/div[1]/div[1]/div/a/div[2]/p[1]').text)\n",
    "#     print(element.text)\n",
    "# WebDriverWait(driver, 10).until(EC.presence_of_element_located((By.ID, \"target\")))\n",
    "# 요소를 잘 가져오면 ok\n",
    "\n"
   ]
  },
  {
   "cell_type": "code",
   "execution_count": null,
   "id": "3347d825",
   "metadata": {},
   "outputs": [],
   "source": []
  }
 ],
 "metadata": {
  "kernelspec": {
   "display_name": "Python 3 (ipykernel)",
   "language": "python",
   "name": "python3"
  },
  "language_info": {
   "codemirror_mode": {
    "name": "ipython",
    "version": 3
   },
   "file_extension": ".py",
   "mimetype": "text/x-python",
   "name": "python",
   "nbconvert_exporter": "python",
   "pygments_lexer": "ipython3",
   "version": "3.10.2"
  }
 },
 "nbformat": 4,
 "nbformat_minor": 5
}
