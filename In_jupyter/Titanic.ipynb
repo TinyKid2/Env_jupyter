{
 "cells": [
  {
   "cell_type": "code",
   "execution_count": 98,
   "id": "86ffec8e",
   "metadata": {},
   "outputs": [],
   "source": [
    "import numpy as np\n",
    "import pandas as pd"
   ]
  },
  {
   "cell_type": "code",
   "execution_count": 124,
   "id": "5f0ea20a",
   "metadata": {},
   "outputs": [
    {
     "name": "stdout",
     "output_type": "stream",
     "text": [
      "Index(['PassengerId', 'Survived', 'Pclass', 'Name', 'Sex', 'Age', 'SibSp',\n",
      "       'Parch', 'Ticket', 'Fare', 'Cabin', 'Embarked'],\n",
      "      dtype='object')\n"
     ]
    }
   ],
   "source": [
    "test = pd.read_csv(\"test.csv\", )\n",
    "submit9 = pd.read_csv(\"gender_submission.csv\")\n",
    "train = pd.read_csv(\"train.csv\")\n",
    "train_result = train['Survived']\n",
    "print(train.columns)\n",
    "train['score'] = 1.0"
   ]
  },
  {
   "cell_type": "code",
   "execution_count": 100,
   "id": "cb8e39b3",
   "metadata": {},
   "outputs": [],
   "source": [
    "# if test['Cabin'] != NaN:\n",
    "#     print()"
   ]
  },
  {
   "cell_type": "code",
   "execution_count": 113,
   "id": "f5e64398",
   "metadata": {},
   "outputs": [
    {
     "name": "stdout",
     "output_type": "stream",
     "text": [
      "     PassengerId  Survived\n",
      "0            892         0\n",
      "1            893         1\n",
      "2            894         0\n",
      "3            895         0\n",
      "4            896         1\n",
      "..           ...       ...\n",
      "413         1305         0\n",
      "414         1306         1\n",
      "415         1307         0\n",
      "416         1308         0\n",
      "417         1309         0\n",
      "\n",
      "[418 rows x 2 columns]\n"
     ]
    }
   ],
   "source": [
    "# print(test)\n",
    "print(submit)"
   ]
  },
  {
   "cell_type": "markdown",
   "id": "138b93e6",
   "metadata": {},
   "source": [
    "타이타닉을 분석하기에 앞서 약간의 도메인지식이 분석에 도움을 준다. 도메인지식은 아주 간단하게 다음고 같다. 타이타닉이 침몰한 날은 1912년이다. \n",
    "당시에는 “Lady First”라는 개념이 사람들에게 전체적으로 있었으며, \n",
    "그런이유인지 가라앉은 당시에 승무원들은 어린아이와 여자부터 우선적으로 구조를 했다고 한다. \n",
    "타이타닉호에는 부자, 일반인, 가난한 이민자 등 여러부류의 사람이 있었으며 객실은 1등급, 2등급, 3등급이 있었다고 한다. \n",
    "가난한 이민자는 주로 3등급 객실에서 머물렀다고 한다."
   ]
  },
  {
   "cell_type": "markdown",
   "id": "046460fd",
   "metadata": {},
   "source": [
    "우선 이해를 돕기위해 컬럼이 의미하는 바를 간단하게 알아볼 필요가 있다. 컬럼의 의미들은 다음과 같다.\n",
    "\n",
    "PassengerId : 탑승객의 ID(인덱스와 같은 개념)\n",
    "\n",
    "Survived : 생존유무(0은 사망 1은 생존)\n",
    "\n",
    "Pclass : 객실의 등급\n",
    "\n",
    "Name : 이름\n",
    "\n",
    "Sex : 성별\n",
    "\n",
    "SibSp : 동승한 형제 혹은 배우자의 수\n",
    "\n",
    "Parch : 동승한 자녀 혹은 부모의 수\n",
    "\n",
    "Ticket : 티켓번호\n",
    "\n",
    "Fare : 요금\n",
    "\n",
    "Cabin : 선실\n",
    "\n",
    "Embarked : 탑승지 (C = Cherbourg, Q = Queenstown, S = Southampton)"
   ]
  },
  {
   "cell_type": "code",
   "execution_count": 105,
   "id": "6865eedf",
   "metadata": {
    "collapsed": true
   },
   "outputs": [
    {
     "name": "stdout",
     "output_type": "stream",
     "text": [
      "0      0\n",
      "1      1\n",
      "2      0\n",
      "3      1\n",
      "4      0\n",
      "      ..\n",
      "886    0\n",
      "887    1\n",
      "888    1\n",
      "889    0\n",
      "890    0\n",
      "Name: result, Length: 891, dtype: int64\n",
      "0      0\n",
      "1      1\n",
      "2      1\n",
      "3      1\n",
      "4      0\n",
      "      ..\n",
      "886    0\n",
      "887    1\n",
      "888    0\n",
      "889    1\n",
      "890    0\n",
      "Name: Survived, Length: 891, dtype: int64\n"
     ]
    },
    {
     "name": "stderr",
     "output_type": "stream",
     "text": [
      "/var/folders/hj/0ywfbvg15dxdpth_dmkhhklm0000gn/T/ipykernel_42632/3045249300.py:33: SettingWithCopyWarning: \n",
      "A value is trying to be set on a copy of a slice from a DataFrame.\n",
      "Try using .loc[row_indexer,col_indexer] = value instead\n",
      "\n",
      "See the caveats in the documentation: https://pandas.pydata.org/pandas-docs/stable/user_guide/indexing.html#returning-a-view-versus-a-copy\n",
      "  train1['score'] = train1['score'] * 100\n",
      "/var/folders/hj/0ywfbvg15dxdpth_dmkhhklm0000gn/T/ipykernel_42632/3045249300.py:34: SettingWithCopyWarning: \n",
      "A value is trying to be set on a copy of a slice from a DataFrame.\n",
      "Try using .loc[row_indexer,col_indexer] = value instead\n",
      "\n",
      "See the caveats in the documentation: https://pandas.pydata.org/pandas-docs/stable/user_guide/indexing.html#returning-a-view-versus-a-copy\n",
      "  train1['result'] = train1['score'].apply(lambda x: 0 if x < 1 else 1)\n"
     ]
    }
   ],
   "source": [
    "train1 = train[['Survived', 'Pclass','Sex', 'Age', 'SibSp','Fare','score']]\n",
    "\n",
    "# train2 = train['Fare']\n",
    "# print(train2.describe(include = 'all'))\n",
    "# train1['score'] == 0\n",
    "\n",
    "\n",
    "# score가 높으면 생존확률이 높은것.\n",
    "# score가 낮으면, 생존확률이 낮은것.\n",
    "\n",
    "#Pclass\n",
    "train1.loc[train1['Pclass'] == 1, 'score'] *= 0.4 \n",
    "train1.loc[train1['Pclass'] == 2, 'score'] *= 0.35 \n",
    "train1.loc[train1['Pclass'] == 3, 'score'] *= 0.25\n",
    "\n",
    "\n",
    "#Sex\n",
    "train1.loc[train1['Sex'] == 'male', 'score'] *= 0.4\n",
    "train1.loc[train1['Sex'] == 'female', 'score'] *= 0.6\n",
    "\n",
    "\n",
    "# Age\n",
    "train1.loc[train1['Age'] <= 10, 'score'] *= 0.3\n",
    "train1.loc[(train1['Age'] >= 11) & (train1['Age'] <= 20), 'score'] *= 0.2\n",
    "train1.loc[(train1['Age'] >= 21) & (train1['Age'] <= 40), 'score'] *= 0.1\n",
    "train1.loc[(train1['Age'] >= 41) & (train1['Age'] <= 50), 'score'] *= 0.2\n",
    "train1.loc[train1['Age'] >= 50, 'score'] *= 0.2\n",
    "\n",
    "train1.loc[train1['Fare'] <= 32, 'score'] *= 0.4\n",
    "train1.loc[train1['Fare'] >= 32, 'score'] *= 0.6\n",
    "\n",
    "# print(train1['score'])\n",
    "train1['score'] = train1['score'] * 100\n",
    "train1['result'] = train1['score'].apply(lambda x: 0 if x < 1 else 1)\n"
   ]
  },
  {
   "cell_type": "code",
   "execution_count": 107,
   "id": "caaed072",
   "metadata": {},
   "outputs": [
    {
     "name": "stdout",
     "output_type": "stream",
     "text": [
      "     result  Survived\n",
      "0         0         0\n",
      "1         1         1\n",
      "2         0         1\n",
      "3         1         1\n",
      "4         0         0\n",
      "..      ...       ...\n",
      "886       0         0\n",
      "887       1         1\n",
      "888       1         0\n",
      "889       0         1\n",
      "890       0         0\n",
      "\n",
      "[891 rows x 2 columns]\n"
     ]
    }
   ],
   "source": [
    "train_real = pd.concat([train1['result'],train['Survived']],axis = 1)\n",
    "print(train_real)"
   ]
  },
  {
   "cell_type": "code",
   "execution_count": 118,
   "id": "5eadca42",
   "metadata": {},
   "outputs": [
    {
     "name": "stderr",
     "output_type": "stream",
     "text": [
      "/var/folders/hj/0ywfbvg15dxdpth_dmkhhklm0000gn/T/ipykernel_42632/3349948732.py:25: SettingWithCopyWarning: \n",
      "A value is trying to be set on a copy of a slice from a DataFrame.\n",
      "Try using .loc[row_indexer,col_indexer] = value instead\n",
      "\n",
      "See the caveats in the documentation: https://pandas.pydata.org/pandas-docs/stable/user_guide/indexing.html#returning-a-view-versus-a-copy\n",
      "  train1['score'] = train1['score'] * 100\n",
      "/var/folders/hj/0ywfbvg15dxdpth_dmkhhklm0000gn/T/ipykernel_42632/3349948732.py:26: SettingWithCopyWarning: \n",
      "A value is trying to be set on a copy of a slice from a DataFrame.\n",
      "Try using .loc[row_indexer,col_indexer] = value instead\n",
      "\n",
      "See the caveats in the documentation: https://pandas.pydata.org/pandas-docs/stable/user_guide/indexing.html#returning-a-view-versus-a-copy\n",
      "  train1['result'] = train1['score'].apply(lambda x: 0 if x < 1 else 1)\n"
     ]
    }
   ],
   "source": [
    "test['score'] = 1.0\n",
    "train1 = test[['Pclass','Sex', 'Age', 'SibSp','Fare','score']]\n",
    "\n",
    "train1.loc[train1['Pclass'] == 1, 'score'] *= 0.4 \n",
    "train1.loc[train1['Pclass'] == 2, 'score'] *= 0.35 \n",
    "train1.loc[train1['Pclass'] == 3, 'score'] *= 0.25\n",
    "\n",
    "\n",
    "#Sex\n",
    "train1.loc[train1['Sex'] == 'male', 'score'] *= 0.4\n",
    "train1.loc[train1['Sex'] == 'female', 'score'] *= 0.6\n",
    "\n",
    "\n",
    "# Age\n",
    "train1.loc[train1['Age'] <= 10, 'score'] *= 0.3\n",
    "train1.loc[(train1['Age'] >= 11) & (train1['Age'] <= 20), 'score'] *= 0.2\n",
    "train1.loc[(train1['Age'] >= 21) & (train1['Age'] <= 40), 'score'] *= 0.1\n",
    "train1.loc[(train1['Age'] >= 41) & (train1['Age'] <= 50), 'score'] *= 0.2\n",
    "train1.loc[train1['Age'] >= 50, 'score'] *= 0.2\n",
    "\n",
    "train1.loc[train1['Fare'] <= 32, 'score'] *= 0.4\n",
    "train1.loc[train1['Fare'] >= 32, 'score'] *= 0.6\n",
    "\n",
    "# print(train1['score'])\n",
    "train1['score'] = train1['score'] * 100\n",
    "train1['result'] = train1['score'].apply(lambda x: 0 if x < 1 else 1)"
   ]
  },
  {
   "cell_type": "code",
   "execution_count": 125,
   "id": "e2bf5c4c",
   "metadata": {},
   "outputs": [
    {
     "name": "stdout",
     "output_type": "stream",
     "text": [
      "     PassengerId  Survived\n",
      "0            892         0\n",
      "1            893         1\n",
      "2            894         1\n",
      "3            895         0\n",
      "4            896         0\n",
      "..           ...       ...\n",
      "413         1305         1\n",
      "414         1306         1\n",
      "415         1307         0\n",
      "416         1308         1\n",
      "417         1309         1\n",
      "\n",
      "[418 rows x 2 columns]\n"
     ]
    }
   ],
   "source": [
    "submit9['Survived'] = train1['result']\n",
    "\n",
    "print(submit9)\n",
    "\n",
    "\n"
   ]
  },
  {
   "cell_type": "code",
   "execution_count": 127,
   "id": "bdc4484f",
   "metadata": {},
   "outputs": [],
   "source": [
    "submit9.to_csv('result1.csv',index = False)"
   ]
  },
  {
   "cell_type": "code",
   "execution_count": 121,
   "id": "61cb4fb2",
   "metadata": {},
   "outputs": [
    {
     "name": "stdout",
     "output_type": "stream",
     "text": [
      "     PassengerId  Survived\n",
      "0            892         0\n",
      "1            893         1\n",
      "2            894         1\n",
      "3            895         0\n",
      "4            896         0\n",
      "..           ...       ...\n",
      "413         1305         1\n",
      "414         1306         1\n",
      "415         1307         0\n",
      "416         1308         1\n",
      "417         1309         1\n",
      "\n",
      "[418 rows x 2 columns]\n"
     ]
    }
   ],
   "source": []
  }
 ],
 "metadata": {
  "kernelspec": {
   "display_name": "Python 3 (ipykernel)",
   "language": "python",
   "name": "python3"
  },
  "language_info": {
   "codemirror_mode": {
    "name": "ipython",
    "version": 3
   },
   "file_extension": ".py",
   "mimetype": "text/x-python",
   "name": "python",
   "nbconvert_exporter": "python",
   "pygments_lexer": "ipython3",
   "version": "3.10.2"
  }
 },
 "nbformat": 4,
 "nbformat_minor": 5
}
