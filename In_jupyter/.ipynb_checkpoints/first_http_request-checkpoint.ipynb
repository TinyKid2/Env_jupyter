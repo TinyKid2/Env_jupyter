{
 "cells": [
  {
   "cell_type": "code",
   "execution_count": 1,
   "id": "17b53b9b-e916-4707-88bb-b7c5796491fe",
   "metadata": {
    "tags": []
   },
   "outputs": [
    {
     "name": "stdout",
     "output_type": "stream",
     "text": [
      "hello\n"
     ]
    }
   ],
   "source": [
    "print('hello')\n",
    "import numpy as np\n"
   ]
  },
  {
   "cell_type": "code",
   "execution_count": null,
   "id": "f4d3b158",
   "metadata": {},
   "outputs": [],
   "source": []
  },
  {
   "cell_type": "markdown",
   "id": "e3307409-8036-42ba-a2bc-f243c554cd45",
   "metadata": {},
   "source": [
    "# mart down 은 m,,, code는 y"
   ]
  },
  {
   "cell_type": "markdown",
   "id": "42652030-a428-4362-831f-69d9f046fcab",
   "metadata": {},
   "source": [
    "# b는 밑에 셀 생성, a는 위에 셀 생성"
   ]
  },
  {
   "cell_type": "markdown",
   "id": "639e29af-ad46-40c2-8456-8c5b12a9a1f8",
   "metadata": {},
   "source": [
    "# dd는 삭제"
   ]
  },
  {
   "cell_type": "markdown",
   "id": "9b85e603-8a7d-4507-98b8-86b1aa5d9955",
   "metadata": {},
   "source": [
    "# cmd + enter : 그 셀을 실행"
   ]
  },
  {
   "cell_type": "code",
   "execution_count": 5,
   "id": "7bc5df4b-93ab-403a-b950-a8e6db5bd70a",
   "metadata": {
    "tags": []
   },
   "outputs": [
    {
     "name": "stdout",
     "output_type": "stream",
     "text": [
      "3\n"
     ]
    }
   ],
   "source": [
    "a=[1,2,3,4]\n",
    "b = a[2]\n",
    "print(b)"
   ]
  },
  {
   "cell_type": "markdown",
   "id": "82c042ec-6f30-4827-a8e6-ddb6df111652",
   "metadata": {
    "tags": []
   },
   "source": [
    "*Italic*\n",
    "hi my name is kim"
   ]
  },
  {
   "cell_type": "markdown",
   "id": "11b025e6-c9f9-4170-b862-2a6f0b093161",
   "metadata": {},
   "source": [
    "'''_ _ _ ''' : 띄어쓰기 를 할수 있도록."
   ]
  },
  {
   "cell_type": "code",
   "execution_count": 8,
   "id": "2166d1f8-451a-4adf-9f7e-9fdfe3db3b6b",
   "metadata": {
    "tags": []
   },
   "outputs": [
    {
     "name": "stdout",
     "output_type": "stream",
     "text": [
      "Requirement already satisfied: requests in ./opt/miniconda3/envs/jupyter/lib/python3.8/site-packages (2.28.2)\n",
      "Requirement already satisfied: urllib3<1.27,>=1.21.1 in ./opt/miniconda3/envs/jupyter/lib/python3.8/site-packages (from requests) (1.26.15)\n",
      "Requirement already satisfied: idna<4,>=2.5 in ./opt/miniconda3/envs/jupyter/lib/python3.8/site-packages (from requests) (3.4)\n",
      "Requirement already satisfied: certifi>=2017.4.17 in ./opt/miniconda3/envs/jupyter/lib/python3.8/site-packages (from requests) (2022.12.7)\n",
      "Requirement already satisfied: charset-normalizer<4,>=2 in ./opt/miniconda3/envs/jupyter/lib/python3.8/site-packages (from requests) (3.1.0)\n",
      "Note: you may need to restart the kernel to use updated packages.\n"
     ]
    }
   ],
   "source": [
    "%pip install requests"
   ]
  },
  {
   "cell_type": "code",
   "execution_count": 12,
   "id": "a65d1394-f088-4999-8468-13c026fd1df3",
   "metadata": {
    "tags": []
   },
   "outputs": [],
   "source": [
    "import requests\n",
    "\n",
    "res = requests.get(\"https://www.naver.com\")\n",
    "\n",
    "\n",
    "# 200은 ok를 내포\n",
    "# 응답은 객체\n",
    "# res는 응답"
   ]
  },
  {
   "cell_type": "code",
   "execution_count": 14,
   "id": "69b9da25-f585-4110-9b7a-cdcfacb720d0",
   "metadata": {
    "tags": []
   },
   "outputs": [
    {
     "data": {
      "text/plain": [
       "{'Server': 'NWS', 'Date': 'Mon, 20 Mar 2023 05:20:41 GMT', 'Content-Type': 'text/html; charset=UTF-8', 'Transfer-Encoding': 'chunked', 'Connection': 'keep-alive', 'Set-Cookie': 'PM_CK_loc=0e6a596de124e59232b74ac00008fa594efb911450256e2b8f3497475773626c; Expires=Tue, 21 Mar 2023 05:20:41 GMT; Path=/; HttpOnly', 'Cache-Control': 'no-cache, no-store, must-revalidate', 'Pragma': 'no-cache', 'P3P': 'CP=\"CAO DSP CURa ADMa TAIa PSAa OUR LAW STP PHY ONL UNI PUR FIN COM NAV INT DEM STA PRE\"', 'X-Frame-Options': 'DENY', 'X-XSS-Protection': '1; mode=block', 'Content-Encoding': 'gzip', 'Strict-Transport-Security': 'max-age=63072000; includeSubdomains', 'Referrer-Policy': 'unsafe-url'}"
      ]
     },
     "execution_count": 14,
     "metadata": {},
     "output_type": "execute_result"
    }
   ],
   "source": [
    "res.headers\n"
   ]
  },
  {
   "cell_type": "code",
   "execution_count": 15,
   "id": "33c40f91-c8ef-49e8-a9df-bb737061d249",
   "metadata": {
    "tags": []
   },
   "outputs": [
    {
     "name": "stdout",
     "output_type": "stream",
     "text": [
      "\n",
      "<!doctype html>                          <html lang=\"ko\" data-dark=\"false\"> <head> <meta charset=\"utf-8\"> <title>NAVER</title> <meta http-equiv=\"X-UA-Compatible\" content=\"IE=edge\"> <meta name=\"viewpo\n"
     ]
    }
   ],
   "source": [
    "print(res.text[:200])\n",
    "\n",
    "# 특정 요소를 가져오는 것은 다른이야기."
   ]
  },
  {
   "cell_type": "code",
   "execution_count": null,
   "id": "f314f37b-710a-4c70-b1ff-e1ecfc03bf0b",
   "metadata": {},
   "outputs": [],
   "source": [
    "# 정보 갱신하는 것을 요청"
   ]
  },
  {
   "cell_type": "code",
   "execution_count": 18,
   "id": "a733fb64-8bf0-4a52-8795-9643e5d1771f",
   "metadata": {
    "tags": []
   },
   "outputs": [
    {
     "data": {
      "text/plain": [
       "200"
      ]
     },
     "execution_count": 18,
     "metadata": {},
     "output_type": "execute_result"
    }
   ],
   "source": [
    "payload = {\"name\":\"hello\", \"age\" : 13}\n",
    "res = requests.post(\"https://webhook.site/3f931701-dfbf-4ff1-953c-9f708cf23b1f\", payload)\n",
    "\n",
    "res.status_code"
   ]
  },
  {
   "cell_type": "code",
   "execution_count": 20,
   "id": "73724269-c35c-4440-ad70-24be91f25a45",
   "metadata": {
    "tags": []
   },
   "outputs": [
    {
     "name": "stdout",
     "output_type": "stream",
     "text": [
      "User-agent: *\n",
      "Allow: /index.html\n",
      "\n"
     ]
    }
   ],
   "source": [
    "res1 = requests.get('https://www.hufs.ac.kr/robots.txt')\n",
    "print(res1.text)"
   ]
  },
  {
   "cell_type": "code",
   "execution_count": 10,
   "id": "e59792cb",
   "metadata": {},
   "outputs": [
    {
     "name": "stdout",
     "output_type": "stream",
     "text": [
      "[[1 2 3]\n",
      " [4 5 6]]\n"
     ]
    }
   ],
   "source": [
    "a = np.array([[1,2,3], [4,5,6]])\n",
    "print(a)"
   ]
  }
 ],
 "metadata": {
  "kernelspec": {
   "display_name": "Python 3 (ipykernel)",
   "language": "python",
   "name": "python3"
  },
  "language_info": {
   "codemirror_mode": {
    "name": "ipython",
    "version": 3
   },
   "file_extension": ".py",
   "mimetype": "text/x-python",
   "name": "python",
   "nbconvert_exporter": "python",
   "pygments_lexer": "ipython3",
   "version": "3.10.2"
  }
 },
 "nbformat": 4,
 "nbformat_minor": 5
}
